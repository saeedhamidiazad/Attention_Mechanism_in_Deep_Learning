{
  "nbformat": 4,
  "nbformat_minor": 0,
  "metadata": {
    "colab": {
      "provenance": []
    },
    "kernelspec": {
      "name": "python3",
      "display_name": "Python 3"
    },
    "language_info": {
      "name": "python"
    }
  },
  "cells": [
    {
      "cell_type": "code",
      "execution_count": null,
      "metadata": {
        "colab": {
          "base_uri": "https://localhost:8080/"
        },
        "id": "qTztUvl4BSOM",
        "outputId": "cadf01cf-6d81-4ab4-9541-73872af8b117"
      },
      "outputs": [
        {
          "output_type": "stream",
          "name": "stdout",
          "text": [
            "Mounted at /content/drive/\n"
          ]
        }
      ],
      "source": [
        "from google.colab import drive\n",
        "drive.mount('/content/drive/')"
      ]
    },
    {
      "cell_type": "code",
      "source": [
        "import pandas as pd\n",
        "\n",
        "file_path_01 = '/content/drive/My Drive/amazon_cells_labelled.txt'\n",
        "file_path_02 = '/content/drive/My Drive/yelp_labelled.txt'\n",
        "\n",
        "df_01 = pd.read_csv(file_path_01, sep='\\t', header=None, names=['Text', 'Label'])\n",
        "df_02 = pd.read_csv(file_path_02, sep='\\t', header=None, names=['Text', 'Label'])\n",
        "df_sentenses = pd.concat([df_01, df_02], ignore_index=True)\n",
        "\n",
        "df_sentenses.head()"
      ],
      "metadata": {
        "colab": {
          "base_uri": "https://localhost:8080/",
          "height": 206
        },
        "id": "YY2drOS8KcCl",
        "outputId": "b9673401-62c5-4362-d702-a8f839ca8312"
      },
      "execution_count": null,
      "outputs": [
        {
          "output_type": "execute_result",
          "data": {
            "text/plain": [
              "                                                Text  Label\n",
              "0  So there is no way for me to plug it in here i...      0\n",
              "1                        Good case, Excellent value.      1\n",
              "2                             Great for the jawbone.      1\n",
              "3  Tied to charger for conversations lasting more...      0\n",
              "4                                  The mic is great.      1"
            ],
            "text/html": [
              "\n",
              "  <div id=\"df-f87c1164-17d0-4933-9757-0f138611e680\" class=\"colab-df-container\">\n",
              "    <div>\n",
              "<style scoped>\n",
              "    .dataframe tbody tr th:only-of-type {\n",
              "        vertical-align: middle;\n",
              "    }\n",
              "\n",
              "    .dataframe tbody tr th {\n",
              "        vertical-align: top;\n",
              "    }\n",
              "\n",
              "    .dataframe thead th {\n",
              "        text-align: right;\n",
              "    }\n",
              "</style>\n",
              "<table border=\"1\" class=\"dataframe\">\n",
              "  <thead>\n",
              "    <tr style=\"text-align: right;\">\n",
              "      <th></th>\n",
              "      <th>Text</th>\n",
              "      <th>Label</th>\n",
              "    </tr>\n",
              "  </thead>\n",
              "  <tbody>\n",
              "    <tr>\n",
              "      <th>0</th>\n",
              "      <td>So there is no way for me to plug it in here i...</td>\n",
              "      <td>0</td>\n",
              "    </tr>\n",
              "    <tr>\n",
              "      <th>1</th>\n",
              "      <td>Good case, Excellent value.</td>\n",
              "      <td>1</td>\n",
              "    </tr>\n",
              "    <tr>\n",
              "      <th>2</th>\n",
              "      <td>Great for the jawbone.</td>\n",
              "      <td>1</td>\n",
              "    </tr>\n",
              "    <tr>\n",
              "      <th>3</th>\n",
              "      <td>Tied to charger for conversations lasting more...</td>\n",
              "      <td>0</td>\n",
              "    </tr>\n",
              "    <tr>\n",
              "      <th>4</th>\n",
              "      <td>The mic is great.</td>\n",
              "      <td>1</td>\n",
              "    </tr>\n",
              "  </tbody>\n",
              "</table>\n",
              "</div>\n",
              "    <div class=\"colab-df-buttons\">\n",
              "\n",
              "  <div class=\"colab-df-container\">\n",
              "    <button class=\"colab-df-convert\" onclick=\"convertToInteractive('df-f87c1164-17d0-4933-9757-0f138611e680')\"\n",
              "            title=\"Convert this dataframe to an interactive table.\"\n",
              "            style=\"display:none;\">\n",
              "\n",
              "  <svg xmlns=\"http://www.w3.org/2000/svg\" height=\"24px\" viewBox=\"0 -960 960 960\">\n",
              "    <path d=\"M120-120v-720h720v720H120Zm60-500h600v-160H180v160Zm220 220h160v-160H400v160Zm0 220h160v-160H400v160ZM180-400h160v-160H180v160Zm440 0h160v-160H620v160ZM180-180h160v-160H180v160Zm440 0h160v-160H620v160Z\"/>\n",
              "  </svg>\n",
              "    </button>\n",
              "\n",
              "  <style>\n",
              "    .colab-df-container {\n",
              "      display:flex;\n",
              "      gap: 12px;\n",
              "    }\n",
              "\n",
              "    .colab-df-convert {\n",
              "      background-color: #E8F0FE;\n",
              "      border: none;\n",
              "      border-radius: 50%;\n",
              "      cursor: pointer;\n",
              "      display: none;\n",
              "      fill: #1967D2;\n",
              "      height: 32px;\n",
              "      padding: 0 0 0 0;\n",
              "      width: 32px;\n",
              "    }\n",
              "\n",
              "    .colab-df-convert:hover {\n",
              "      background-color: #E2EBFA;\n",
              "      box-shadow: 0px 1px 2px rgba(60, 64, 67, 0.3), 0px 1px 3px 1px rgba(60, 64, 67, 0.15);\n",
              "      fill: #174EA6;\n",
              "    }\n",
              "\n",
              "    .colab-df-buttons div {\n",
              "      margin-bottom: 4px;\n",
              "    }\n",
              "\n",
              "    [theme=dark] .colab-df-convert {\n",
              "      background-color: #3B4455;\n",
              "      fill: #D2E3FC;\n",
              "    }\n",
              "\n",
              "    [theme=dark] .colab-df-convert:hover {\n",
              "      background-color: #434B5C;\n",
              "      box-shadow: 0px 1px 3px 1px rgba(0, 0, 0, 0.15);\n",
              "      filter: drop-shadow(0px 1px 2px rgba(0, 0, 0, 0.3));\n",
              "      fill: #FFFFFF;\n",
              "    }\n",
              "  </style>\n",
              "\n",
              "    <script>\n",
              "      const buttonEl =\n",
              "        document.querySelector('#df-f87c1164-17d0-4933-9757-0f138611e680 button.colab-df-convert');\n",
              "      buttonEl.style.display =\n",
              "        google.colab.kernel.accessAllowed ? 'block' : 'none';\n",
              "\n",
              "      async function convertToInteractive(key) {\n",
              "        const element = document.querySelector('#df-f87c1164-17d0-4933-9757-0f138611e680');\n",
              "        const dataTable =\n",
              "          await google.colab.kernel.invokeFunction('convertToInteractive',\n",
              "                                                    [key], {});\n",
              "        if (!dataTable) return;\n",
              "\n",
              "        const docLinkHtml = 'Like what you see? Visit the ' +\n",
              "          '<a target=\"_blank\" href=https://colab.research.google.com/notebooks/data_table.ipynb>data table notebook</a>'\n",
              "          + ' to learn more about interactive tables.';\n",
              "        element.innerHTML = '';\n",
              "        dataTable['output_type'] = 'display_data';\n",
              "        await google.colab.output.renderOutput(dataTable, element);\n",
              "        const docLink = document.createElement('div');\n",
              "        docLink.innerHTML = docLinkHtml;\n",
              "        element.appendChild(docLink);\n",
              "      }\n",
              "    </script>\n",
              "  </div>\n",
              "\n",
              "\n",
              "<div id=\"df-84f0103b-0337-4f3d-8ab5-405aff860659\">\n",
              "  <button class=\"colab-df-quickchart\" onclick=\"quickchart('df-84f0103b-0337-4f3d-8ab5-405aff860659')\"\n",
              "            title=\"Suggest charts\"\n",
              "            style=\"display:none;\">\n",
              "\n",
              "<svg xmlns=\"http://www.w3.org/2000/svg\" height=\"24px\"viewBox=\"0 0 24 24\"\n",
              "     width=\"24px\">\n",
              "    <g>\n",
              "        <path d=\"M19 3H5c-1.1 0-2 .9-2 2v14c0 1.1.9 2 2 2h14c1.1 0 2-.9 2-2V5c0-1.1-.9-2-2-2zM9 17H7v-7h2v7zm4 0h-2V7h2v10zm4 0h-2v-4h2v4z\"/>\n",
              "    </g>\n",
              "</svg>\n",
              "  </button>\n",
              "\n",
              "<style>\n",
              "  .colab-df-quickchart {\n",
              "      --bg-color: #E8F0FE;\n",
              "      --fill-color: #1967D2;\n",
              "      --hover-bg-color: #E2EBFA;\n",
              "      --hover-fill-color: #174EA6;\n",
              "      --disabled-fill-color: #AAA;\n",
              "      --disabled-bg-color: #DDD;\n",
              "  }\n",
              "\n",
              "  [theme=dark] .colab-df-quickchart {\n",
              "      --bg-color: #3B4455;\n",
              "      --fill-color: #D2E3FC;\n",
              "      --hover-bg-color: #434B5C;\n",
              "      --hover-fill-color: #FFFFFF;\n",
              "      --disabled-bg-color: #3B4455;\n",
              "      --disabled-fill-color: #666;\n",
              "  }\n",
              "\n",
              "  .colab-df-quickchart {\n",
              "    background-color: var(--bg-color);\n",
              "    border: none;\n",
              "    border-radius: 50%;\n",
              "    cursor: pointer;\n",
              "    display: none;\n",
              "    fill: var(--fill-color);\n",
              "    height: 32px;\n",
              "    padding: 0;\n",
              "    width: 32px;\n",
              "  }\n",
              "\n",
              "  .colab-df-quickchart:hover {\n",
              "    background-color: var(--hover-bg-color);\n",
              "    box-shadow: 0 1px 2px rgba(60, 64, 67, 0.3), 0 1px 3px 1px rgba(60, 64, 67, 0.15);\n",
              "    fill: var(--button-hover-fill-color);\n",
              "  }\n",
              "\n",
              "  .colab-df-quickchart-complete:disabled,\n",
              "  .colab-df-quickchart-complete:disabled:hover {\n",
              "    background-color: var(--disabled-bg-color);\n",
              "    fill: var(--disabled-fill-color);\n",
              "    box-shadow: none;\n",
              "  }\n",
              "\n",
              "  .colab-df-spinner {\n",
              "    border: 2px solid var(--fill-color);\n",
              "    border-color: transparent;\n",
              "    border-bottom-color: var(--fill-color);\n",
              "    animation:\n",
              "      spin 1s steps(1) infinite;\n",
              "  }\n",
              "\n",
              "  @keyframes spin {\n",
              "    0% {\n",
              "      border-color: transparent;\n",
              "      border-bottom-color: var(--fill-color);\n",
              "      border-left-color: var(--fill-color);\n",
              "    }\n",
              "    20% {\n",
              "      border-color: transparent;\n",
              "      border-left-color: var(--fill-color);\n",
              "      border-top-color: var(--fill-color);\n",
              "    }\n",
              "    30% {\n",
              "      border-color: transparent;\n",
              "      border-left-color: var(--fill-color);\n",
              "      border-top-color: var(--fill-color);\n",
              "      border-right-color: var(--fill-color);\n",
              "    }\n",
              "    40% {\n",
              "      border-color: transparent;\n",
              "      border-right-color: var(--fill-color);\n",
              "      border-top-color: var(--fill-color);\n",
              "    }\n",
              "    60% {\n",
              "      border-color: transparent;\n",
              "      border-right-color: var(--fill-color);\n",
              "    }\n",
              "    80% {\n",
              "      border-color: transparent;\n",
              "      border-right-color: var(--fill-color);\n",
              "      border-bottom-color: var(--fill-color);\n",
              "    }\n",
              "    90% {\n",
              "      border-color: transparent;\n",
              "      border-bottom-color: var(--fill-color);\n",
              "    }\n",
              "  }\n",
              "</style>\n",
              "\n",
              "  <script>\n",
              "    async function quickchart(key) {\n",
              "      const quickchartButtonEl =\n",
              "        document.querySelector('#' + key + ' button');\n",
              "      quickchartButtonEl.disabled = true;  // To prevent multiple clicks.\n",
              "      quickchartButtonEl.classList.add('colab-df-spinner');\n",
              "      try {\n",
              "        const charts = await google.colab.kernel.invokeFunction(\n",
              "            'suggestCharts', [key], {});\n",
              "      } catch (error) {\n",
              "        console.error('Error during call to suggestCharts:', error);\n",
              "      }\n",
              "      quickchartButtonEl.classList.remove('colab-df-spinner');\n",
              "      quickchartButtonEl.classList.add('colab-df-quickchart-complete');\n",
              "    }\n",
              "    (() => {\n",
              "      let quickchartButtonEl =\n",
              "        document.querySelector('#df-84f0103b-0337-4f3d-8ab5-405aff860659 button');\n",
              "      quickchartButtonEl.style.display =\n",
              "        google.colab.kernel.accessAllowed ? 'block' : 'none';\n",
              "    })();\n",
              "  </script>\n",
              "</div>\n",
              "\n",
              "    </div>\n",
              "  </div>\n"
            ]
          },
          "metadata": {},
          "execution_count": 2
        }
      ]
    },
    {
      "cell_type": "code",
      "source": [
        "from keras.preprocessing.text import Tokenizer\n",
        "\n",
        "t = Tokenizer()\n",
        "t.fit_on_texts(df_sentenses.Text)\n",
        "text_matrix = t.texts_to_sequences(df_sentenses.Text)\n",
        "\n",
        "vocab_length = len(t.word_index)\n",
        "print(\"vocab_length:\", vocab_length)"
      ],
      "metadata": {
        "colab": {
          "base_uri": "https://localhost:8080/"
        },
        "id": "a6CsTLYnMYaL",
        "outputId": "ace9c590-b667-446b-dd35-2ed366c881a5"
      },
      "execution_count": null,
      "outputs": [
        {
          "output_type": "stream",
          "name": "stdout",
          "text": [
            "vocab_length: 3258\n"
          ]
        }
      ]
    },
    {
      "cell_type": "code",
      "source": [
        "len_mat=[]\n",
        "for i in range(len(text_matrix)):\n",
        "    len_mat.append(len(text_matrix[i]))\n",
        "features = max(len_mat)"
      ],
      "metadata": {
        "id": "-xFDV6I2QREm"
      },
      "execution_count": null,
      "outputs": []
    },
    {
      "cell_type": "code",
      "source": [
        "max(len_mat) #######################"
      ],
      "metadata": {
        "colab": {
          "base_uri": "https://localhost:8080/"
        },
        "id": "sEj92tcZSGru",
        "outputId": "bb10a93c-aee5-4088-b3d8-ffbe929aedf4"
      },
      "execution_count": null,
      "outputs": [
        {
          "output_type": "execute_result",
          "data": {
            "text/plain": [
              "32"
            ]
          },
          "metadata": {},
          "execution_count": 5
        }
      ]
    },
    {
      "cell_type": "code",
      "source": [
        "from keras.preprocessing.sequence import pad_sequences\n",
        "text_pad = pad_sequences(text_matrix, maxlen=features, padding='post')"
      ],
      "metadata": {
        "id": "dlsjUpk-SIG7"
      },
      "execution_count": null,
      "outputs": []
    },
    {
      "cell_type": "code",
      "source": [
        "text_pad.shape"
      ],
      "metadata": {
        "colab": {
          "base_uri": "https://localhost:8080/"
        },
        "id": "4tPPV12yS23d",
        "outputId": "e1f06e2d-beeb-4858-f550-faa7c9dce7b0"
      },
      "execution_count": null,
      "outputs": [
        {
          "output_type": "execute_result",
          "data": {
            "text/plain": [
              "(2000, 32)"
            ]
          },
          "metadata": {},
          "execution_count": 7
        }
      ]
    },
    {
      "cell_type": "code",
      "source": [
        "!pip install tensorflow keras"
      ],
      "metadata": {
        "id": "IJ3DLe9sVmzU"
      },
      "execution_count": null,
      "outputs": []
    },
    {
      "cell_type": "code",
      "source": [
        "\n",
        "import tensorflow as tf\n",
        "from tensorflow import keras\n",
        "from tensorflow.keras.layers import Input, Embedding, LSTM, Dense\n",
        "from tensorflow.keras.models import Model\n",
        "\n",
        "features = max(len_mat)\n",
        "vocab_length = len(t.word_index)"
      ],
      "metadata": {
        "id": "OybUmLFeig7h"
      },
      "execution_count": null,
      "outputs": []
    },
    {
      "cell_type": "code",
      "source": [
        "x1 = Embedding(input_dim=vocab_length + 1, output_dim=32, input_length=features, embeddings_regularizer=keras.regularizers.l2(0.001))(inputs1)"
      ],
      "metadata": {
        "id": "fUcK7s7JyJrT"
      },
      "execution_count": null,
      "outputs": []
    },
    {
      "cell_type": "code",
      "source": [
        "x1"
      ],
      "metadata": {
        "colab": {
          "base_uri": "https://localhost:8080/"
        },
        "id": "nCmqPMmb9O4N",
        "outputId": "9a55a7b1-a308-4db8-e11e-61ddd3e2fa09"
      },
      "execution_count": null,
      "outputs": [
        {
          "output_type": "execute_result",
          "data": {
            "text/plain": [
              "<KerasTensor: shape=(None, 32, 32) dtype=float32 (created by layer 'embedding_1')>"
            ]
          },
          "metadata": {},
          "execution_count": 18
        }
      ]
    },
    {
      "cell_type": "code",
      "source": [
        "inputs1 = Input(shape=(features,))\n",
        "\n",
        "x1 = Embedding(input_dim=vocab_length + 1, output_dim=32, input_length=features, embeddings_regularizer=keras.regularizers.l2(0.001))(inputs1)\n",
        "\n",
        "x1 = LSTM(100, dropout=0.3, recurrent_dropout=0.2)(x1)\n",
        "\n",
        "outputs1 = Dense(1, activation='sigmoid')(x1)\n",
        "\n",
        "model1 = Model(inputs1, outputs1)\n",
        "\n",
        "model1.summary()"
      ],
      "metadata": {
        "colab": {
          "base_uri": "https://localhost:8080/"
        },
        "id": "t43S_BbbWfIP",
        "outputId": "f03dc79f-e141-4ffc-a97b-c2a1547bff1e"
      },
      "execution_count": null,
      "outputs": [
        {
          "output_type": "stream",
          "name": "stdout",
          "text": [
            "Model: \"model\"\n",
            "_________________________________________________________________\n",
            " Layer (type)                Output Shape              Param #   \n",
            "=================================================================\n",
            " input_1 (InputLayer)        [(None, 32)]              0         \n",
            "                                                                 \n",
            " embedding (Embedding)       (None, 32, 32)            104288    \n",
            "                                                                 \n",
            " lstm (LSTM)                 (None, 100)               53200     \n",
            "                                                                 \n",
            " dense (Dense)               (None, 1)                 101       \n",
            "                                                                 \n",
            "=================================================================\n",
            "Total params: 157589 (615.58 KB)\n",
            "Trainable params: 157589 (615.58 KB)\n",
            "Non-trainable params: 0 (0.00 Byte)\n",
            "_________________________________________________________________\n"
          ]
        }
      ]
    },
    {
      "cell_type": "code",
      "source": [
        "model1.compile(loss='binary_crossentropy', optimizer='adam', metrics=['acc'])"
      ],
      "metadata": {
        "id": "Dou2oxo8gbUv"
      },
      "execution_count": null,
      "outputs": []
    },
    {
      "cell_type": "code",
      "source": [
        "model1.fit(x=text_pad,y=df_sentenses.Label,batch_size=100,epochs=10,verbose=1,shuffle=True,validation_split=0.2)"
      ],
      "metadata": {
        "colab": {
          "base_uri": "https://localhost:8080/"
        },
        "id": "aVv1bosubqm_",
        "outputId": "1cac5301-40b0-4874-f1eb-8bdea3feefea"
      },
      "execution_count": null,
      "outputs": [
        {
          "output_type": "stream",
          "name": "stdout",
          "text": [
            "Epoch 1/10\n",
            "16/16 [==============================] - 2s 96ms/step - loss: 0.0444 - acc: 0.9919 - val_loss: 1.0303 - val_acc: 0.7900\n",
            "Epoch 2/10\n",
            "16/16 [==============================] - 2s 95ms/step - loss: 0.0375 - acc: 0.9962 - val_loss: 1.1149 - val_acc: 0.7800\n",
            "Epoch 3/10\n",
            "16/16 [==============================] - 1s 86ms/step - loss: 0.0409 - acc: 0.9937 - val_loss: 1.0625 - val_acc: 0.7850\n",
            "Epoch 4/10\n",
            "16/16 [==============================] - 1s 90ms/step - loss: 0.0400 - acc: 0.9950 - val_loss: 0.9127 - val_acc: 0.7925\n",
            "Epoch 5/10\n",
            "16/16 [==============================] - 2s 141ms/step - loss: 0.0309 - acc: 0.9969 - val_loss: 0.9801 - val_acc: 0.8025\n",
            "Epoch 6/10\n",
            "16/16 [==============================] - 2s 152ms/step - loss: 0.0284 - acc: 0.9987 - val_loss: 1.1715 - val_acc: 0.7950\n",
            "Epoch 7/10\n",
            "16/16 [==============================] - 2s 149ms/step - loss: 0.0288 - acc: 0.9975 - val_loss: 1.2758 - val_acc: 0.7900\n",
            "Epoch 8/10\n",
            "16/16 [==============================] - 1s 89ms/step - loss: 0.0312 - acc: 0.9975 - val_loss: 1.1658 - val_acc: 0.7975\n",
            "Epoch 9/10\n",
            "16/16 [==============================] - 2s 94ms/step - loss: 0.0379 - acc: 0.9925 - val_loss: 1.0004 - val_acc: 0.7750\n",
            "Epoch 10/10\n",
            "16/16 [==============================] - 1s 89ms/step - loss: 0.0362 - acc: 0.9962 - val_loss: 1.2097 - val_acc: 0.7700\n"
          ]
        },
        {
          "output_type": "execute_result",
          "data": {
            "text/plain": [
              "<keras.src.callbacks.History at 0x781b2bdfff10>"
            ]
          },
          "metadata": {},
          "execution_count": 15
        }
      ]
    },
    {
      "cell_type": "code",
      "source": [
        "from keras.layers import Layer\n",
        "import keras.backend as K\n",
        "class attention(Layer):\n",
        "    def __init__(self,**kwargs):\n",
        "        super(attention,self).__init__(**kwargs)\n",
        "\n",
        "    def build(self,input_shape):\n",
        "        self.W=self.add_weight(name=\"att_weight\",shape=(input_shape[-1],1),initializer=\"normal\")\n",
        "        self.b=self.add_weight(name=\"att_bias\",shape=(input_shape[1],1),initializer=\"zeros\")\n",
        "        super(attention, self).build(input_shape)\n",
        "\n",
        "    def call(self,x):\n",
        "        et=K.squeeze(K.tanh(K.dot(x,self.W)+self.b),axis=-1)\n",
        "        at=K.softmax(et)\n",
        "        at=K.expand_dims(at,axis=-1)\n",
        "        output=x*at\n",
        "        return K.sum(output,axis=1)\n",
        "\n",
        "    def compute_output_shape(self,input_shape):\n",
        "        return (input_shape[0],input_shape[-1])\n",
        "\n",
        "    def get_config(self):\n",
        "        return super(attention,self).get_config()"
      ],
      "metadata": {
        "id": "a6wDQee7hdGb"
      },
      "execution_count": null,
      "outputs": []
    },
    {
      "cell_type": "code",
      "source": [
        "no_of_neurons = 100\n",
        "\n",
        "inputs = Input((features,))\n",
        "\n",
        "x = Embedding(input_dim=vocab_length + 1, output_dim=32, input_length=features, embeddings_regularizer=keras.regularizers.l2(0.001))(inputs)\n",
        "\n",
        "att_in = LSTM(no_of_neurons, return_sequences=True, dropout=0.3, recurrent_dropout=0.2)(x)\n",
        "\n",
        "att_out = attention()(att_in)\n",
        "\n",
        "outputs = Dense(1, activation='sigmoid', trainable=True)(att_out)\n",
        "\n",
        "model = Model(inputs, outputs)\n",
        "\n",
        "model.summary()"
      ],
      "metadata": {
        "colab": {
          "base_uri": "https://localhost:8080/"
        },
        "id": "Cn92KMtGhdMu",
        "outputId": "4e23a8de-1c94-46c4-fbeb-fd045f51cd8d"
      },
      "execution_count": null,
      "outputs": [
        {
          "output_type": "stream",
          "name": "stdout",
          "text": [
            "Model: \"model_3\"\n",
            "_________________________________________________________________\n",
            " Layer (type)                Output Shape              Param #   \n",
            "=================================================================\n",
            " input_5 (InputLayer)        [(None, 32)]              0         \n",
            "                                                                 \n",
            " embedding_3 (Embedding)     (None, 32, 32)            104288    \n",
            "                                                                 \n",
            " lstm_3 (LSTM)               (None, 32, 100)           53200     \n",
            "                                                                 \n",
            " attention_1 (attention)     (None, 100)               132       \n",
            "                                                                 \n",
            " dense_3 (Dense)             (None, 1)                 101       \n",
            "                                                                 \n",
            "=================================================================\n",
            "Total params: 157721 (616.10 KB)\n",
            "Trainable params: 157721 (616.10 KB)\n",
            "Non-trainable params: 0 (0.00 Byte)\n",
            "_________________________________________________________________\n"
          ]
        }
      ]
    },
    {
      "cell_type": "code",
      "source": [
        "model.compile(loss='binary_crossentropy', optimizer='adam', metrics=['acc'])\n",
        "model.fit(x=text_pad,y=df_sentenses.Label,batch_size=100,epochs=10,verbose=1,shuffle=True,validation_split=0.2)"
      ],
      "metadata": {
        "colab": {
          "base_uri": "https://localhost:8080/"
        },
        "id": "4K6xc5hUhdP9",
        "outputId": "89cf6dc4-2ddb-4344-bfbb-fffd67d9d987"
      },
      "execution_count": null,
      "outputs": [
        {
          "output_type": "stream",
          "name": "stdout",
          "text": [
            "Epoch 1/10\n",
            "16/16 [==============================] - 5s 141ms/step - loss: 0.1408 - acc: 0.9494 - val_loss: 0.5249 - val_acc: 0.7825\n",
            "Epoch 2/10\n",
            "16/16 [==============================] - 1s 88ms/step - loss: 0.1425 - acc: 0.9625 - val_loss: 1.0110 - val_acc: 0.7850\n",
            "Epoch 3/10\n",
            "16/16 [==============================] - 1s 90ms/step - loss: 0.0636 - acc: 0.9775 - val_loss: 0.7291 - val_acc: 0.7850\n",
            "Epoch 4/10\n",
            "16/16 [==============================] - 2s 94ms/step - loss: 0.0334 - acc: 0.9950 - val_loss: 0.9664 - val_acc: 0.7875\n",
            "Epoch 5/10\n",
            "16/16 [==============================] - 1s 90ms/step - loss: 0.0305 - acc: 0.9925 - val_loss: 0.7972 - val_acc: 0.8025\n",
            "Epoch 6/10\n",
            "16/16 [==============================] - 2s 149ms/step - loss: 0.0256 - acc: 0.9937 - val_loss: 0.8817 - val_acc: 0.7975\n",
            "Epoch 7/10\n",
            "16/16 [==============================] - 2s 156ms/step - loss: 0.0210 - acc: 0.9956 - val_loss: 0.8738 - val_acc: 0.8025\n",
            "Epoch 8/10\n",
            "16/16 [==============================] - 2s 131ms/step - loss: 0.0167 - acc: 0.9962 - val_loss: 1.0802 - val_acc: 0.7975\n",
            "Epoch 9/10\n",
            "16/16 [==============================] - 1s 92ms/step - loss: 0.0218 - acc: 0.9975 - val_loss: 1.1489 - val_acc: 0.7800\n",
            "Epoch 10/10\n",
            "16/16 [==============================] - 1s 90ms/step - loss: 0.0266 - acc: 0.9962 - val_loss: 0.9707 - val_acc: 0.8050\n"
          ]
        },
        {
          "output_type": "execute_result",
          "data": {
            "text/plain": [
              "<keras.src.callbacks.History at 0x7a99599ebf10>"
            ]
          },
          "metadata": {},
          "execution_count": 66
        }
      ]
    }
  ]
}